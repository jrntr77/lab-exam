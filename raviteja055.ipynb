{
  "nbformat": 4,
  "nbformat_minor": 0,
  "metadata": {
    "colab": {
      "provenance": [],
      "mount_file_id": "13pScP_JvRgaHzqloG-K46zqlWlJtwmJW",
      "authorship_tag": "ABX9TyPn2NRt5sXTGfM0i54/BDY4",
      "include_colab_link": true
    },
    "kernelspec": {
      "name": "python3",
      "display_name": "Python 3"
    },
    "language_info": {
      "name": "python"
    }
  },
  "cells": [
    {
      "cell_type": "markdown",
      "metadata": {
        "id": "view-in-github",
        "colab_type": "text"
      },
      "source": [
        "<a href=\"https://colab.research.google.com/github/jrntr77/lab-exam/blob/main/raviteja055.ipynb\" target=\"_parent\"><img src=\"https://colab.research.google.com/assets/colab-badge.svg\" alt=\"Open In Colab\"/></a>"
      ]
    },
    {
      "cell_type": "code",
      "execution_count": 1,
      "metadata": {
        "id": "sLgJp-eGsXGk"
      },
      "outputs": [],
      "source": [
        "import pandas as pd\n"
      ]
    },
    {
      "cell_type": "code",
      "source": [
        "from google.colab import drive\n",
        "drive.mount=('/content/Copy of ODD.xlsx')"
      ],
      "metadata": {
        "id": "CepSyWHOs3Tw"
      },
      "execution_count": 2,
      "outputs": []
    },
    {
      "cell_type": "code",
      "source": [
        "df=pd.read_excel('/content/Copy of ODD.xlsx')"
      ],
      "metadata": {
        "id": "4W_zVYjytsK5"
      },
      "execution_count": 3,
      "outputs": []
    },
    {
      "cell_type": "code",
      "source": [
        "average_cost_per_destination = df.groupby('Destination')['Total_Cost'].mean()\n",
        "print(average_cost_per_destination)"
      ],
      "metadata": {
        "colab": {
          "base_uri": "https://localhost:8080/"
        },
        "id": "2GxRx-LEt7Cf",
        "outputId": "af98fc4a-9f08-4e43-de7e-46f23d6806e3"
      },
      "execution_count": 4,
      "outputs": [
        {
          "output_type": "stream",
          "name": "stdout",
          "text": [
            "Destination\n",
            "ALBANIA           73664.210000\n",
            "ALEJANDROSHIRE    78168.730000\n",
            "ARUBA              8573.290000\n",
            "Adamsbury         22309.600000\n",
            "Adamsfurt         15705.440000\n",
            "                      ...     \n",
            "Zacharyberg       41751.850000\n",
            "Zambia            20658.930000\n",
            "Zamoramouth       84404.310000\n",
            "Zimbabwe          31329.406667\n",
            "Zimmermantown     59139.600000\n",
            "Name: Total_Cost, Length: 858, dtype: float64\n"
          ]
        }
      ]
    },
    {
      "cell_type": "code",
      "source": [
        "import pandas as pd\n",
        "\n",
        "df = pd.read_excel(\"Copy of ODD.xlsx\")\n",
        "df[[\"Start_Date\", \"End_Date\"]] = df[\"Travel_Dates\"].str.split(\" - \", expand=True).apply(pd.to_datetime, errors=\"coerce\")\n",
        "df = df.dropna(subset=[\"Start_Date\", \"End_Date\"])\n",
        "df[\"Travel_Duration\"] = (df[\"End_Date\"] - df[\"Start_Date\"]).dt.days\n",
        "\n",
        "print(\"Earliest:\", df[\"Start_Date\"].min(), \"\\nLatest:\", df[\"End_Date\"].max(), \"\\nMost Common Period:\", df[\"Travel_Duration\"].mode()[0])"
      ],
      "metadata": {
        "colab": {
          "base_uri": "https://localhost:8080/"
        },
        "id": "mHHydza_uC-S",
        "outputId": "7379c0cb-8121-41c8-fa2e-18c95586c01a"
      },
      "execution_count": 5,
      "outputs": [
        {
          "output_type": "stream",
          "name": "stdout",
          "text": [
            "Earliest: 2023-08-20 00:00:00 \n",
            "Latest: 2025-08-19 00:00:00 \n",
            "Most Common Period: 291\n"
          ]
        }
      ]
    },
    {
      "cell_type": "code",
      "source": [
        "unique_destinations= df[\"Destination\"].nunique()\n",
        "print(\"Number of Unique Destinations:\", unique_destinations)"
      ],
      "metadata": {
        "colab": {
          "base_uri": "https://localhost:8080/"
        },
        "id": "e3BZ_2jouMKi",
        "outputId": "8aeb80aa-8c77-4e9f-abda-b7ae5cabdcbd"
      },
      "execution_count": 6,
      "outputs": [
        {
          "output_type": "stream",
          "name": "stdout",
          "text": [
            "Number of Unique Destinations: 796\n"
          ]
        }
      ]
    },
    {
      "cell_type": "code",
      "source": [
        "import pandas as pd\n",
        "import re\n",
        "df = pd.read_excel(\"Copy of ODD.xlsx\")\n",
        "patterns = {\n",
        "    \"YYYY-MM-DD - YYYY-MM-DD\": re.compile(r\"\\d{4}-\\d{2}-\\d{2} - \\d{4}-\\d{2}-\\d{2}\"),\n",
        "    \"YYYY/MM/DD / YYYY/MM/DD\": re.compile(r\"\\d{4}/\\d{2}/\\d{2} / \\d{4}/\\d{2}/\\d{2}\")\n",
        "}\n",
        "\n",
        "counts = {k: 0 for k in patterns}\n",
        "inconsistent = []\n",
        "\n",
        "for date in df[\"Travel_Dates\"].dropna():\n",
        "    if any(p.fullmatch(date) for p in patterns.values()):\n",
        "        for fmt, p in patterns.items():\n",
        "            if p.fullmatch(date):\n",
        "                counts[fmt] += 1\n",
        "    else:\n",
        "        inconsistent.append(date)\n",
        "print(\"Date Formats:\", counts)\n",
        "if inconsistent:\n",
        "    print(\"\\nInconsistent Dates:\", inconsistent[:10])\n",
        "else:\n",
        "    print(\"\\nAll dates are consistent.\")"
      ],
      "metadata": {
        "colab": {
          "base_uri": "https://localhost:8080/"
        },
        "id": "hig4lHGeuQSl",
        "outputId": "e95f6bb7-21d3-4a8e-95e8-b7a3d2ec068f"
      },
      "execution_count": 7,
      "outputs": [
        {
          "output_type": "stream",
          "name": "stdout",
          "text": [
            "Date Formats: {'YYYY-MM-DD - YYYY-MM-DD': 4687, 'YYYY/MM/DD / YYYY/MM/DD': 513}\n",
            "\n",
            "All dates are consistent.\n"
          ]
        }
      ]
    },
    {
      "cell_type": "code",
      "source": [
        "invalid_travelers = df[(df[\"Number_of_Travelers\"] <= 0) | (df[\"Number_of_Travelers\"] > 100)]\n",
        "\n",
        "if not invalid_travelers.empty:\n",
        "    print(\"Invalid Number_of_Travelers found:\")\n",
        "    print(invalid_travelers)\n",
        "else:\n",
        "    print(\"All traveler numbers are positive and reasonable.\")"
      ],
      "metadata": {
        "colab": {
          "base_uri": "https://localhost:8080/"
        },
        "id": "W1d9xuMfuWXf",
        "outputId": "6ccf2e42-81da-4dbc-9217-b6f4cb837966"
      },
      "execution_count": 8,
      "outputs": [
        {
          "output_type": "stream",
          "name": "stdout",
          "text": [
            "All traveler numbers are positive and reasonable.\n"
          ]
        }
      ]
    }
  ]
}